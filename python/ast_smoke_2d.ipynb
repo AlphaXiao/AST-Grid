{
 "cells": [
  {
   "cell_type": "code",
   "execution_count": null,
   "metadata": {},
   "outputs": [],
   "source": [
    "%matplotlib widget\n",
    "import ast_solver\n",
    "import numpy as np\n",
    "from image_viewer import ImageViewer"
   ]
  },
  {
   "cell_type": "code",
   "execution_count": null,
   "metadata": {},
   "outputs": [],
   "source": [
    "res = (192, 384)\n",
    "dx = 1.0 / 192\n",
    "dt = 0.025\n",
    "solver = ast_solver.ASTSolver2(res, dx, adaptive_dofs=True, name=\"output_ast_toy_192_384\")\n",
    "solver.initialize()"
   ]
  },
  {
   "cell_type": "code",
   "execution_count": null,
   "metadata": {},
   "outputs": [],
   "source": [
    "viewer = ImageViewer(res[::-1])\n",
    "viewer.init()"
   ]
  },
  {
   "cell_type": "code",
   "execution_count": null,
   "metadata": {},
   "outputs": [],
   "source": [
    "ast_solver.benchmark_reset()\n",
    "for i in range(30):\n",
    "    solver.update(dt)\n",
    "    if i % 3 == 0:\n",
    "        viewer.update(np.array(solver.getDensity()[::-1]))"
   ]
  },
  {
   "cell_type": "code",
   "execution_count": null,
   "metadata": {},
   "outputs": [],
   "source": []
  }
 ],
 "metadata": {
  "kernelspec": {
   "display_name": "Python 3",
   "language": "python",
   "name": "python3"
  },
  "language_info": {
   "codemirror_mode": {
    "name": "ipython",
    "version": 3
   },
   "file_extension": ".py",
   "mimetype": "text/x-python",
   "name": "python",
   "nbconvert_exporter": "python",
   "pygments_lexer": "ipython3",
   "version": "3.7.0"
  }
 },
 "nbformat": 4,
 "nbformat_minor": 4
}
